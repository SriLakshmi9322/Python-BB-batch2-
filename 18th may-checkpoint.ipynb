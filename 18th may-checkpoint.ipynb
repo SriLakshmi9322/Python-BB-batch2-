{
 "cells": [
  {
   "cell_type": "code",
   "execution_count": null,
   "id": "7767a5cd",
   "metadata": {},
   "outputs": [],
   "source": [
    "print(\"Hello\")"
   ]
  },
  {
   "cell_type": "code",
   "execution_count": null,
   "id": "e3ed6630",
   "metadata": {},
   "outputs": [],
   "source": [
    "x=(\"Hello World\")\n",
    "x"
   ]
  },
  {
   "cell_type": "code",
   "execution_count": null,
   "id": "ba116259",
   "metadata": {},
   "outputs": [],
   "source": [
    "type(x)"
   ]
  },
  {
   "cell_type": "code",
   "execution_count": null,
   "id": "7c1ae8fe",
   "metadata": {},
   "outputs": [],
   "source": [
    "x=10 #int- no decimal point"
   ]
  },
  {
   "cell_type": "code",
   "execution_count": null,
   "id": "cacb3fc3",
   "metadata": {},
   "outputs": [],
   "source": [
    "type(x)"
   ]
  },
  {
   "cell_type": "code",
   "execution_count": null,
   "id": "69580b49",
   "metadata": {},
   "outputs": [],
   "source": [
    "print(type(x))"
   ]
  },
  {
   "cell_type": "code",
   "execution_count": null,
   "id": "4ac8b598",
   "metadata": {},
   "outputs": [],
   "source": [
    "x=10.5 #float-decimal point\n",
    "type(x)"
   ]
  },
  {
   "cell_type": "code",
   "execution_count": null,
   "id": "ecf5a82a",
   "metadata": {},
   "outputs": [],
   "source": [
    "print(type(x))"
   ]
  },
  {
   "cell_type": "code",
   "execution_count": null,
   "id": "235ace46",
   "metadata": {},
   "outputs": [],
   "source": [
    "x=1j\n",
    "type(x)"
   ]
  },
  {
   "cell_type": "code",
   "execution_count": null,
   "id": "6da87be9",
   "metadata": {},
   "outputs": [],
   "source": [
    "x=3-4j\n",
    "type(x)"
   ]
  },
  {
   "cell_type": "code",
   "execution_count": null,
   "id": "689c9241",
   "metadata": {},
   "outputs": [],
   "source": [
    "x=2+4j\n",
    "print(x,type(x))"
   ]
  },
  {
   "cell_type": "code",
   "execution_count": null,
   "id": "66c796c4",
   "metadata": {},
   "outputs": [],
   "source": [
    "x=10\n",
    "x\n",
    "type(x)"
   ]
  },
  {
   "cell_type": "code",
   "execution_count": null,
   "id": "889ade8c",
   "metadata": {},
   "outputs": [],
   "source": [
    "x=10\n",
    "x,type(x)"
   ]
  },
  {
   "cell_type": "code",
   "execution_count": null,
   "id": "7e31a089",
   "metadata": {},
   "outputs": [],
   "source": [
    "x=3.4\n",
    "x,type(x)"
   ]
  },
  {
   "cell_type": "code",
   "execution_count": null,
   "id": "7de188c4",
   "metadata": {},
   "outputs": [],
   "source": [
    "x=[\"apple\",\"banana\",\"cherry\"]\n",
    "type(x)"
   ]
  },
  {
   "cell_type": "code",
   "execution_count": null,
   "id": "9e8f1994",
   "metadata": {},
   "outputs": [],
   "source": [
    "y=[1,2,3]\n",
    "type(y)"
   ]
  },
  {
   "cell_type": "code",
   "execution_count": null,
   "id": "abc2718c",
   "metadata": {},
   "outputs": [],
   "source": [
    "z=[1.2,5,1-2j,\"water\"]\n",
    "type(z)"
   ]
  },
  {
   "cell_type": "code",
   "execution_count": null,
   "id": "4d3e40fb",
   "metadata": {},
   "outputs": [],
   "source": [
    "x=(\"apple\",\"banana\",\"cherry\")\n",
    "type(x)"
   ]
  },
  {
   "cell_type": "code",
   "execution_count": null,
   "id": "360c976c",
   "metadata": {},
   "outputs": [],
   "source": [
    "z=(1.2,5,1-2j,\"water\")\n",
    "type(z)"
   ]
  },
  {
   "cell_type": "code",
   "execution_count": null,
   "id": "e8e07d72",
   "metadata": {},
   "outputs": [],
   "source": [
    "x={\"name\":\"john\",\"age\":36} #Dictionary\n",
    "type(x)"
   ]
  },
  {
   "cell_type": "code",
   "execution_count": null,
   "id": "14ca6da3",
   "metadata": {},
   "outputs": [],
   "source": [
    "print(x)"
   ]
  },
  {
   "cell_type": "code",
   "execution_count": null,
   "id": "f58abc5e",
   "metadata": {},
   "outputs": [],
   "source": [
    "x={\"apple\",\"banana\",\"cherry\"}\n",
    "type(x)"
   ]
  },
  {
   "cell_type": "code",
   "execution_count": null,
   "id": "ada60792",
   "metadata": {},
   "outputs": [],
   "source": [
    "x={1,6,3,8,2,9,6}\n",
    "x"
   ]
  },
  {
   "cell_type": "code",
   "execution_count": null,
   "id": "a9acbd9d",
   "metadata": {},
   "outputs": [],
   "source": [
    "x={1,2,5,4,22,4,2,30,67,65,'ab','ad','c','bc'}\n",
    "x"
   ]
  },
  {
   "cell_type": "code",
   "execution_count": null,
   "id": "2510c983",
   "metadata": {},
   "outputs": [],
   "source": [
    "x=True\n",
    "type(x)"
   ]
  },
  {
   "cell_type": "code",
   "execution_count": null,
   "id": "6b02b0d4",
   "metadata": {},
   "outputs": [],
   "source": [
    "x=False\n",
    "type(x)"
   ]
  },
  {
   "cell_type": "code",
   "execution_count": null,
   "id": "eeb771f1",
   "metadata": {},
   "outputs": [],
   "source": [
    "a=\"Latha\"\n",
    "type(a)"
   ]
  },
  {
   "cell_type": "code",
   "execution_count": null,
   "id": "fa19de38",
   "metadata": {},
   "outputs": [],
   "source": [
    "b=5.2\n",
    "type(b)"
   ]
  },
  {
   "cell_type": "code",
   "execution_count": null,
   "id": "1faae1ed",
   "metadata": {},
   "outputs": [],
   "source": [
    "c=3\n",
    "type(c)"
   ]
  },
  {
   "cell_type": "code",
   "execution_count": null,
   "id": "7ec49cc4",
   "metadata": {},
   "outputs": [],
   "source": [
    "c=33\n",
    "type(c)"
   ]
  },
  {
   "cell_type": "code",
   "execution_count": null,
   "id": "937d3514",
   "metadata": {},
   "outputs": [],
   "source": [
    "z=\"False\"\n",
    "type(z)"
   ]
  },
  {
   "cell_type": "code",
   "execution_count": null,
   "id": "218de012",
   "metadata": {},
   "outputs": [],
   "source": [
    "x=10 # int\n",
    "y=3.99999 # float\n",
    "z=1-3j # complex"
   ]
  },
  {
   "cell_type": "code",
   "execution_count": null,
   "id": "34a8b371",
   "metadata": {},
   "outputs": [],
   "source": [
    "# convert from int to float:\n",
    "a=float(x) # float(10) .we expect 10.0\n",
    "a"
   ]
  },
  {
   "cell_type": "code",
   "execution_count": null,
   "id": "6a1003ee",
   "metadata": {},
   "outputs": [],
   "source": [
    "# convert from float to int:\n",
    "b=int(y)\n",
    "b"
   ]
  },
  {
   "cell_type": "code",
   "execution_count": null,
   "id": "4c551c3a",
   "metadata": {},
   "outputs": [],
   "source": [
    "# convert from int to complex:\n",
    "c=complex(x)\n",
    "c"
   ]
  },
  {
   "cell_type": "code",
   "execution_count": null,
   "id": "291e5f50",
   "metadata": {},
   "outputs": [],
   "source": [
    "d=complex(y)\n",
    "d"
   ]
  },
  {
   "cell_type": "code",
   "execution_count": null,
   "id": "c5c73865",
   "metadata": {},
   "outputs": [],
   "source": [
    "e=int(z)\n",
    "e"
   ]
  },
  {
   "cell_type": "code",
   "execution_count": null,
   "id": "d57da7dc",
   "metadata": {},
   "outputs": [],
   "source": [
    "f=float(z)\n",
    "f"
   ]
  },
  {
   "cell_type": "code",
   "execution_count": null,
   "id": "919fc2f8",
   "metadata": {},
   "outputs": [],
   "source": [
    "print(a)\n",
    "print(b)\n",
    "print(c)"
   ]
  },
  {
   "cell_type": "code",
   "execution_count": null,
   "id": "e7f2c757",
   "metadata": {},
   "outputs": [],
   "source": [
    "print(type(a))\n",
    "print(type(b))\n",
    "print(type(c))"
   ]
  },
  {
   "cell_type": "markdown",
   "id": "36b695da",
   "metadata": {},
   "source": [
    "### Variables are containers for storing values.\n",
    "### Python has no command for declaring the variables.\n",
    "### When you assign a value, a variable is created. "
   ]
  },
  {
   "cell_type": "code",
   "execution_count": null,
   "id": "bcce3a9d",
   "metadata": {},
   "outputs": [],
   "source": [
    "### Declaring a Variable\n",
    "x=5\n",
    "x"
   ]
  },
  {
   "cell_type": "code",
   "execution_count": null,
   "id": "31ebaeeb",
   "metadata": {},
   "outputs": [],
   "source": [
    "Name=Latha"
   ]
  },
  {
   "cell_type": "code",
   "execution_count": null,
   "id": "5dfed146",
   "metadata": {},
   "outputs": [],
   "source": [
    "Name=\"Latha\"\n",
    "Name"
   ]
  },
  {
   "cell_type": "code",
   "execution_count": null,
   "id": "1908afa1",
   "metadata": {},
   "outputs": [],
   "source": [
    "_name=\"Latha\"\n",
    "_name"
   ]
  },
  {
   "cell_type": "code",
   "execution_count": null,
   "id": "4e0729d6",
   "metadata": {},
   "outputs": [],
   "source": [
    "2_name=\"Latha\"\n",
    "2_name"
   ]
  },
  {
   "cell_type": "code",
   "execution_count": null,
   "id": "088231f8",
   "metadata": {},
   "outputs": [],
   "source": [
    "_a1=\"dean\"\n",
    "_a1"
   ]
  },
  {
   "cell_type": "code",
   "execution_count": null,
   "id": "e4187c66",
   "metadata": {},
   "outputs": [],
   "source": [
    "nick-name=\"Latha\"\n",
    "nick-name"
   ]
  },
  {
   "cell_type": "code",
   "execution_count": null,
   "id": "b15e1066",
   "metadata": {},
   "outputs": [],
   "source": [
    "nick@name=\"Latha\"\n",
    "nick@name"
   ]
  },
  {
   "cell_type": "code",
   "execution_count": null,
   "id": "43de20b3",
   "metadata": {},
   "outputs": [],
   "source": [
    "Age=32\n",
    "Age"
   ]
  },
  {
   "cell_type": "code",
   "execution_count": null,
   "id": "66ddd880",
   "metadata": {},
   "outputs": [],
   "source": [
    "age=23\n",
    "age"
   ]
  },
  {
   "cell_type": "code",
   "execution_count": null,
   "id": "58fb2da4",
   "metadata": {},
   "outputs": [],
   "source": [
    "Age"
   ]
  },
  {
   "cell_type": "code",
   "execution_count": null,
   "id": "20534939",
   "metadata": {},
   "outputs": [],
   "source": [
    "age"
   ]
  },
  {
   "cell_type": "code",
   "execution_count": null,
   "id": "1cd70f9a",
   "metadata": {},
   "outputs": [],
   "source": [
    "AGE"
   ]
  },
  {
   "cell_type": "code",
   "execution_count": null,
   "id": "aef0380d",
   "metadata": {},
   "outputs": [],
   "source": [
    "a=15\n",
    "b=18\n",
    "a//b"
   ]
  },
  {
   "cell_type": "code",
   "execution_count": null,
   "id": "ab46c02d",
   "metadata": {},
   "outputs": [],
   "source": [
    "a=8\n",
    "b=15\n",
    "sum=a+b\n",
    "sum,type(sum)"
   ]
  },
  {
   "cell_type": "code",
   "execution_count": null,
   "id": "b53a4f87",
   "metadata": {},
   "outputs": [],
   "source": [
    "### Code implementation for\"and\" operation.\n",
    "x=8\n",
    "print(x>3 and x<10)"
   ]
  },
  {
   "cell_type": "code",
   "execution_count": null,
   "id": "e424ecfa",
   "metadata": {},
   "outputs": [],
   "source": [
    "x=10\n",
    "print(x>5 and x>20)"
   ]
  },
  {
   "cell_type": "code",
   "execution_count": null,
   "id": "f2eb8384",
   "metadata": {},
   "outputs": [],
   "source": [
    "### Code implementation for \"or\" operations.\n",
    "x=3.2\n",
    "print(x>3 or x<4)"
   ]
  },
  {
   "cell_type": "code",
   "execution_count": null,
   "id": "dc3182fc",
   "metadata": {},
   "outputs": [],
   "source": [
    "x=10\n",
    "print(x<20 or x<5)"
   ]
  },
  {
   "cell_type": "code",
   "execution_count": null,
   "id": "bf52e8d2",
   "metadata": {},
   "outputs": [],
   "source": [
    "x=11\n",
    "print(x<10 or x<5)"
   ]
  },
  {
   "cell_type": "code",
   "execution_count": null,
   "id": "4da1c625",
   "metadata": {},
   "outputs": [],
   "source": [
    "### Code for equal to operator\n",
    "x=5\n",
    "y=3\n",
    "print(x!=y)"
   ]
  },
  {
   "cell_type": "code",
   "execution_count": null,
   "id": "8f269d6f",
   "metadata": {},
   "outputs": [],
   "source": [
    "### Code for greater than operator\n",
    "x=5\n",
    "y=3\n",
    "print(x>y)"
   ]
  },
  {
   "cell_type": "code",
   "execution_count": null,
   "id": "08225f77",
   "metadata": {},
   "outputs": [],
   "source": [
    "x=5\n",
    "x<<=3\n",
    "x"
   ]
  },
  {
   "cell_type": "code",
   "execution_count": null,
   "id": "f37609ff",
   "metadata": {},
   "outputs": [],
   "source": [
    "### Code for assigning a value to x\n",
    "x=15\n",
    "print(x)"
   ]
  },
  {
   "cell_type": "code",
   "execution_count": null,
   "id": "8985deb9",
   "metadata": {},
   "outputs": [],
   "source": [
    "### Code for assigning values to two or more variables at the same time\n",
    "a,c=11,10\n",
    "pritn(a,c)"
   ]
  },
  {
   "cell_type": "markdown",
   "id": "58d1fa84",
   "metadata": {},
   "source": [
    "## Escape Character"
   ]
  },
  {
   "cell_type": "code",
   "execution_count": null,
   "id": "2d1b0e50",
   "metadata": {},
   "outputs": [],
   "source": [
    "intro=\"Hello sir,is this vinu's home?\"\n",
    "print(intro)"
   ]
  },
  {
   "cell_type": "code",
   "execution_count": null,
   "id": "3512ce85",
   "metadata": {},
   "outputs": [],
   "source": [
    "intro=\"Hello sir,is this vinu\\\"s home?\"\n",
    "print(intro)"
   ]
  },
  {
   "cell_type": "markdown",
   "id": "b2c960e2",
   "metadata": {},
   "source": [
    "### \\n:it is used to add your string in new line"
   ]
  },
  {
   "cell_type": "code",
   "execution_count": null,
   "id": "d4a98748",
   "metadata": {},
   "outputs": [],
   "source": [
    "prag=\"Hey raj \\nwhere are you going?\"\n",
    "print(prag)"
   ]
  },
  {
   "cell_type": "markdown",
   "id": "909bc39c",
   "metadata": {},
   "source": [
    "### \\t:it is used to add tab space in string"
   ]
  },
  {
   "cell_type": "code",
   "execution_count": null,
   "id": "a73cc578",
   "metadata": {},
   "outputs": [],
   "source": [
    "prag=\"Hey Anu \\tWhere are you going?\"\n",
    "print(prag)"
   ]
  },
  {
   "cell_type": "markdown",
   "id": "52764995",
   "metadata": {},
   "source": [
    "## Format Specifier"
   ]
  },
  {
   "cell_type": "code",
   "execution_count": null,
   "id": "8e5e1a91",
   "metadata": {},
   "outputs": [],
   "source": [
    "name=\"Latha\"\n",
    "print(\"hi,%s!!!\"%name)"
   ]
  },
  {
   "cell_type": "code",
   "execution_count": null,
   "id": "b8ac6e1b",
   "metadata": {},
   "outputs": [],
   "source": [
    "name=\"latha\"\n",
    "time=8\n",
    "print(\"%s, i will come back at %d am .\"%(name,time))"
   ]
  },
  {
   "cell_type": "code",
   "execution_count": null,
   "id": "bb15b73a",
   "metadata": {},
   "outputs": [],
   "source": [
    "name=\"Latha\"\n",
    "marks=98\n",
    "print(\"%s got the marks %d\"%(name,marks))"
   ]
  }
 ],
 "metadata": {
  "kernelspec": {
   "display_name": "Python 3 (ipykernel)",
   "language": "python",
   "name": "python3"
  },
  "language_info": {
   "codemirror_mode": {
    "name": "ipython",
    "version": 3
   },
   "file_extension": ".py",
   "mimetype": "text/x-python",
   "name": "python",
   "nbconvert_exporter": "python",
   "pygments_lexer": "ipython3",
   "version": "3.9.12"
  }
 },
 "nbformat": 4,
 "nbformat_minor": 5
}
