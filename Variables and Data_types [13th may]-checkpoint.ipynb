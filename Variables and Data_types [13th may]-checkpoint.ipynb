{
 "cells": [
  {
   "cell_type": "markdown",
   "id": "4af64b6d",
   "metadata": {},
   "source": [
    "## Rules for naming variables"
   ]
  },
  {
   "cell_type": "code",
   "execution_count": null,
   "id": "7ec7fc9a",
   "metadata": {},
   "outputs": [],
   "source": [
    "course=\"Artificial Intelligence and Machine Learning\"\n",
    "course"
   ]
  },
  {
   "cell_type": "code",
   "execution_count": null,
   "id": "5cfb6e46",
   "metadata": {},
   "outputs": [],
   "source": [
    "print(course)"
   ]
  },
  {
   "cell_type": "code",
   "execution_count": null,
   "id": "9e3057fd",
   "metadata": {},
   "outputs": [],
   "source": [
    "roll_no=1,2,3,4,5\n",
    "roll_no"
   ]
  },
  {
   "cell_type": "code",
   "execution_count": null,
   "id": "7f249066",
   "metadata": {},
   "outputs": [],
   "source": [
    "roll no=1,2,3,4,5\n",
    "roll no"
   ]
  },
  {
   "cell_type": "markdown",
   "id": "98a2e1d4",
   "metadata": {},
   "source": [
    "### 1.Space is not allowed in variable name"
   ]
  },
  {
   "cell_type": "code",
   "execution_count": null,
   "id": "b1222b80",
   "metadata": {},
   "outputs": [],
   "source": [
    "roll+no=1,2,3,4,5\n",
    "roll+no"
   ]
  },
  {
   "cell_type": "code",
   "execution_count": null,
   "id": "3e9f22a9",
   "metadata": {},
   "outputs": [],
   "source": [
    "roll.no=1,2,3,4,5\n",
    "roll.no"
   ]
  },
  {
   "cell_type": "code",
   "execution_count": null,
   "id": "11998bce",
   "metadata": {},
   "outputs": [],
   "source": [
    "_rollno=1,2,3,4,5\n",
    "_rollno"
   ]
  },
  {
   "cell_type": "markdown",
   "id": "cbc5dd69",
   "metadata": {},
   "source": [
    "### 2.Only allowed special character is underscore"
   ]
  },
  {
   "cell_type": "code",
   "execution_count": null,
   "id": "0701c7d3",
   "metadata": {},
   "outputs": [],
   "source": [
    "rollno9=1,2,3,4,5\n",
    "rollno9"
   ]
  },
  {
   "cell_type": "markdown",
   "id": "c6ce2f5d",
   "metadata": {},
   "source": [
    "### 3.Variable name should not start with a number\n",
    "### 4.Variable names should startnwith A-Z,a-z"
   ]
  },
  {
   "cell_type": "code",
   "execution_count": null,
   "id": "210f561c",
   "metadata": {},
   "outputs": [],
   "source": [
    "names=\"jagadish\",\"sindhu\",\"bala\"\n",
    "names"
   ]
  },
  {
   "cell_type": "markdown",
   "id": "42fc112a",
   "metadata": {},
   "source": [
    "### 5.Variable name is case sensitive"
   ]
  },
  {
   "cell_type": "markdown",
   "id": "4d52f874",
   "metadata": {},
   "source": [
    "## Data Types"
   ]
  },
  {
   "cell_type": "code",
   "execution_count": null,
   "id": "76416345",
   "metadata": {},
   "outputs": [],
   "source": [
    "x=17\n",
    "type(x)"
   ]
  },
  {
   "cell_type": "markdown",
   "id": "385e79ac",
   "metadata": {},
   "source": [
    "#### int-integer(no decimal point)"
   ]
  },
  {
   "cell_type": "code",
   "execution_count": null,
   "id": "382fcb4a",
   "metadata": {},
   "outputs": [],
   "source": [
    "x=19.5\n",
    "type(x)"
   ]
  },
  {
   "cell_type": "markdown",
   "id": "19013494",
   "metadata": {},
   "source": [
    "#### float-decimal point"
   ]
  },
  {
   "cell_type": "code",
   "execution_count": null,
   "id": "2db746e9",
   "metadata": {},
   "outputs": [],
   "source": [
    "x=True\n",
    "type(x)"
   ]
  },
  {
   "cell_type": "code",
   "execution_count": null,
   "id": "13c06fbe",
   "metadata": {},
   "outputs": [],
   "source": [
    "x=False\n",
    "type(x)"
   ]
  },
  {
   "cell_type": "markdown",
   "id": "2abc455b",
   "metadata": {},
   "source": [
    "#### bool-Boolean->True/False"
   ]
  },
  {
   "cell_type": "code",
   "execution_count": null,
   "id": "313cd2b8",
   "metadata": {},
   "outputs": [],
   "source": [
    "course=\"AIML\"\n",
    "type(course)"
   ]
  },
  {
   "cell_type": "markdown",
   "id": "aa24cd86",
   "metadata": {},
   "source": [
    "#### string->text/char"
   ]
  },
  {
   "cell_type": "code",
   "execution_count": null,
   "id": "e5006b5c",
   "metadata": {},
   "outputs": [],
   "source": [
    "y=1-2j\n",
    "type(y)"
   ]
  },
  {
   "cell_type": "markdown",
   "id": "30b42ca7",
   "metadata": {},
   "source": [
    "#### complex-with j(imaginary)"
   ]
  }
 ],
 "metadata": {
  "kernelspec": {
   "display_name": "Python 3 (ipykernel)",
   "language": "python",
   "name": "python3"
  },
  "language_info": {
   "codemirror_mode": {
    "name": "ipython",
    "version": 3
   },
   "file_extension": ".py",
   "mimetype": "text/x-python",
   "name": "python",
   "nbconvert_exporter": "python",
   "pygments_lexer": "ipython3",
   "version": "3.9.12"
  }
 },
 "nbformat": 4,
 "nbformat_minor": 5
}
