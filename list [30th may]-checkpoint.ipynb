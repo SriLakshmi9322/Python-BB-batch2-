{
 "cells": [
  {
   "cell_type": "code",
   "execution_count": null,
   "id": "fc3fba27",
   "metadata": {},
   "outputs": [],
   "source": [
    "my_list=[\"apple\",\"mango\",\"orange\"]\n",
    "my_list"
   ]
  },
  {
   "cell_type": "code",
   "execution_count": null,
   "id": "f7a2a388",
   "metadata": {},
   "outputs": [],
   "source": [
    "type(my_list)"
   ]
  },
  {
   "cell_type": "code",
   "execution_count": null,
   "id": "6d453a38",
   "metadata": {},
   "outputs": [],
   "source": [
    "my_tuple=(\"apple\",\"mango\",\"orange\")\n",
    "my_tuple"
   ]
  },
  {
   "cell_type": "code",
   "execution_count": null,
   "id": "a2a2ab3f",
   "metadata": {},
   "outputs": [],
   "source": [
    "type(my_tuple)"
   ]
  },
  {
   "cell_type": "code",
   "execution_count": null,
   "id": "4711f10e",
   "metadata": {},
   "outputs": [],
   "source": [
    "my_tuple=\"apple\",\"mango\",\"orange\"\n",
    "type(my_tuple)"
   ]
  },
  {
   "cell_type": "markdown",
   "id": "948263db",
   "metadata": {},
   "source": [
    "### List"
   ]
  },
  {
   "cell_type": "code",
   "execution_count": null,
   "id": "6e21e569",
   "metadata": {},
   "outputs": [],
   "source": [
    "my_list=[\"aiml\",24,\"python\",False]"
   ]
  },
  {
   "cell_type": "code",
   "execution_count": null,
   "id": "a968cdbe",
   "metadata": {},
   "outputs": [],
   "source": [
    "my_list"
   ]
  },
  {
   "cell_type": "code",
   "execution_count": null,
   "id": "7ba51157",
   "metadata": {},
   "outputs": [],
   "source": [
    "type(my_list)"
   ]
  },
  {
   "cell_type": "markdown",
   "id": "149af889",
   "metadata": {},
   "source": [
    "#### 1.List allows heterogenous(Allows multiple data types)"
   ]
  },
  {
   "cell_type": "markdown",
   "id": "adb19f9a",
   "metadata": {},
   "source": [
    "###### 2.List has square brackets"
   ]
  },
  {
   "cell_type": "code",
   "execution_count": null,
   "id": "ac77d602",
   "metadata": {},
   "outputs": [],
   "source": [
    "my_list[0]"
   ]
  },
  {
   "cell_type": "code",
   "execution_count": null,
   "id": "b57d86ed",
   "metadata": {},
   "outputs": [],
   "source": [
    "my_list[1]"
   ]
  },
  {
   "cell_type": "code",
   "execution_count": null,
   "id": "5ef54353",
   "metadata": {},
   "outputs": [],
   "source": [
    "my_list[5]"
   ]
  },
  {
   "cell_type": "markdown",
   "id": "336d2c78",
   "metadata": {},
   "source": [
    "#### 3.Index starts from zero and we can retrieve the element using index"
   ]
  },
  {
   "cell_type": "code",
   "execution_count": null,
   "id": "331f6633",
   "metadata": {},
   "outputs": [],
   "source": [
    "mylist_2=list(\"Artificial Intelligence\")\n",
    "mylist_2"
   ]
  },
  {
   "cell_type": "code",
   "execution_count": null,
   "id": "24639f4f",
   "metadata": {},
   "outputs": [],
   "source": [
    "empty_list=[]\n",
    "empty_list"
   ]
  },
  {
   "cell_type": "code",
   "execution_count": null,
   "id": "c41476a5",
   "metadata": {},
   "outputs": [],
   "source": [
    "empty_list.append(\"Data science\")\n",
    "empty_list"
   ]
  },
  {
   "cell_type": "code",
   "execution_count": null,
   "id": "1d07c41e",
   "metadata": {},
   "outputs": [],
   "source": [
    "mylist=(\"Artificial Intelligence\")\n",
    "mylist"
   ]
  },
  {
   "cell_type": "code",
   "execution_count": null,
   "id": "b9153846",
   "metadata": {},
   "outputs": [],
   "source": [
    "combined_list=mylist+empty_list\n",
    "combined_list"
   ]
  },
  {
   "cell_type": "code",
   "execution_count": null,
   "id": "85a42dbe",
   "metadata": {},
   "outputs": [],
   "source": [
    "num_list=[1,2,3,4,5]\n",
    "num_list"
   ]
  },
  {
   "cell_type": "code",
   "execution_count": null,
   "id": "15c5e893",
   "metadata": {},
   "outputs": [],
   "source": [
    "len(num_list)"
   ]
  },
  {
   "cell_type": "code",
   "execution_count": null,
   "id": "eac60aa5",
   "metadata": {},
   "outputs": [],
   "source": [
    "max(num_list)"
   ]
  },
  {
   "cell_type": "code",
   "execution_count": null,
   "id": "51c884e6",
   "metadata": {},
   "outputs": [],
   "source": [
    "min(num_list)"
   ]
  },
  {
   "cell_type": "code",
   "execution_count": null,
   "id": "23f1a0f6",
   "metadata": {},
   "outputs": [],
   "source": [
    "len(combined_list)"
   ]
  },
  {
   "cell_type": "code",
   "execution_count": null,
   "id": "7367e392",
   "metadata": {},
   "outputs": [],
   "source": [
    "sum(num_list)"
   ]
  },
  {
   "cell_type": "code",
   "execution_count": null,
   "id": "4f53441f",
   "metadata": {},
   "outputs": [],
   "source": [
    "sum(combined_list)"
   ]
  },
  {
   "cell_type": "code",
   "execution_count": null,
   "id": "4a8ed54e",
   "metadata": {},
   "outputs": [],
   "source": [
    "sum(num_list)/len(num_list)"
   ]
  },
  {
   "cell_type": "markdown",
   "id": "408f16c9",
   "metadata": {},
   "source": [
    "#### in keyword"
   ]
  },
  {
   "cell_type": "code",
   "execution_count": null,
   "id": "c9d1b600",
   "metadata": {},
   "outputs": [],
   "source": [
    "1 in num_list"
   ]
  },
  {
   "cell_type": "code",
   "execution_count": null,
   "id": "c385681b",
   "metadata": {},
   "outputs": [],
   "source": [
    "6 in num_list"
   ]
  },
  {
   "cell_type": "markdown",
   "id": "9c9a5208",
   "metadata": {},
   "source": [
    "#### not in"
   ]
  },
  {
   "cell_type": "code",
   "execution_count": null,
   "id": "aca695dd",
   "metadata": {},
   "outputs": [],
   "source": [
    "1 not in num_list"
   ]
  },
  {
   "cell_type": "code",
   "execution_count": null,
   "id": "f4c5102e",
   "metadata": {},
   "outputs": [],
   "source": [
    "combined_list.reverse()\n",
    "combined_list"
   ]
  },
  {
   "cell_type": "code",
   "execution_count": null,
   "id": "4c7d6fb2",
   "metadata": {},
   "outputs": [],
   "source": [
    "combined_list.sort()"
   ]
  },
  {
   "cell_type": "code",
   "execution_count": null,
   "id": "85a06c4b",
   "metadata": {},
   "outputs": [],
   "source": [
    "num_list.sort()"
   ]
  },
  {
   "cell_type": "code",
   "execution_count": null,
   "id": "b5da69c3",
   "metadata": {},
   "outputs": [],
   "source": [
    "num_list"
   ]
  },
  {
   "cell_type": "code",
   "execution_count": null,
   "id": "6506cb06",
   "metadata": {},
   "outputs": [],
   "source": [
    "l1=[2,6,8,9,20]"
   ]
  },
  {
   "cell_type": "code",
   "execution_count": null,
   "id": "60ac9a6b",
   "metadata": {},
   "outputs": [],
   "source": [
    "l1.insert(1,5)"
   ]
  },
  {
   "cell_type": "code",
   "execution_count": null,
   "id": "0c67a09b",
   "metadata": {},
   "outputs": [],
   "source": [
    "l1"
   ]
  },
  {
   "cell_type": "code",
   "execution_count": null,
   "id": "43436eb8",
   "metadata": {},
   "outputs": [],
   "source": [
    "l=[\"Apple\",\"Ant\",\"Biscuit\",\"AIML\",\"Venn\",\"Cat\"]\n",
    "l.sort()\n",
    "l"
   ]
  },
  {
   "cell_type": "code",
   "execution_count": null,
   "id": "10f23872",
   "metadata": {},
   "outputs": [],
   "source": [
    "l1.pop()"
   ]
  },
  {
   "cell_type": "code",
   "execution_count": null,
   "id": "203c021e",
   "metadata": {},
   "outputs": [],
   "source": [
    "l1"
   ]
  },
  {
   "cell_type": "markdown",
   "id": "e4072e91",
   "metadata": {},
   "source": [
    "#### List indexing and slicing"
   ]
  },
  {
   "cell_type": "code",
   "execution_count": null,
   "id": "dfb78ba3",
   "metadata": {},
   "outputs": [],
   "source": [
    "l2=[2,4,5,8,9,10]\n",
    "l2"
   ]
  },
  {
   "cell_type": "code",
   "execution_count": null,
   "id": "86b3882e",
   "metadata": {},
   "outputs": [],
   "source": [
    "l2[0]"
   ]
  },
  {
   "cell_type": "code",
   "execution_count": null,
   "id": "e9df4402",
   "metadata": {},
   "outputs": [],
   "source": [
    "l2[4]"
   ]
  },
  {
   "cell_type": "code",
   "execution_count": null,
   "id": "9a086fd3",
   "metadata": {},
   "outputs": [],
   "source": [
    "l2[-2]"
   ]
  },
  {
   "cell_type": "code",
   "execution_count": null,
   "id": "aadef9f6",
   "metadata": {},
   "outputs": [],
   "source": [
    "l2[10]"
   ]
  },
  {
   "cell_type": "code",
   "execution_count": null,
   "id": "3fc5c4f6",
   "metadata": {},
   "outputs": [],
   "source": [
    "nested_list=[[1,2,3],[4,5,6],[7,8,9]]\n",
    "nested_list"
   ]
  },
  {
   "cell_type": "code",
   "execution_count": null,
   "id": "d59b4d14",
   "metadata": {},
   "outputs": [],
   "source": [
    "nested_list[0][2]"
   ]
  },
  {
   "cell_type": "code",
   "execution_count": null,
   "id": "0156790f",
   "metadata": {},
   "outputs": [],
   "source": [
    "nested_list[1][2]"
   ]
  },
  {
   "cell_type": "code",
   "execution_count": null,
   "id": "8a61e252",
   "metadata": {},
   "outputs": [],
   "source": [
    "nested_list[1:3]"
   ]
  },
  {
   "cell_type": "markdown",
   "id": "bfcc18ff",
   "metadata": {},
   "source": [
    "#### append\n",
    "#### copy\n",
    "#### insert\n",
    "#### reverse\n",
    "#### remove\n",
    "#### sort\n",
    "#### pop\n",
    "#### extend\n",
    "#### index\n",
    "#### clear"
   ]
  },
  {
   "cell_type": "markdown",
   "id": "2b918e6d",
   "metadata": {},
   "source": [
    "### copying lists"
   ]
  },
  {
   "cell_type": "code",
   "execution_count": null,
   "id": "657e091d",
   "metadata": {},
   "outputs": [],
   "source": [
    "list_1=[1,2,3,4,5]\n",
    "list_2=list_1.copy()"
   ]
  },
  {
   "cell_type": "code",
   "execution_count": null,
   "id": "8928594f",
   "metadata": {},
   "outputs": [],
   "source": [
    "list_2"
   ]
  },
  {
   "cell_type": "code",
   "execution_count": null,
   "id": "2eb58833",
   "metadata": {},
   "outputs": [],
   "source": [
    "list_1.append(6)"
   ]
  },
  {
   "cell_type": "code",
   "execution_count": null,
   "id": "0ff59eda",
   "metadata": {},
   "outputs": [],
   "source": [
    "list_1"
   ]
  },
  {
   "cell_type": "code",
   "execution_count": null,
   "id": "f9d10a6f",
   "metadata": {},
   "outputs": [],
   "source": [
    "list_2"
   ]
  },
  {
   "cell_type": "code",
   "execution_count": null,
   "id": "387e9e6f",
   "metadata": {},
   "outputs": [],
   "source": [
    "list_1=[1,2,3]\n",
    "list_2=[\"List within a list\",list_1]\n",
    "list_3=list_2.copy()\n",
    "list_2"
   ]
  },
  {
   "cell_type": "code",
   "execution_count": null,
   "id": "ff23694f",
   "metadata": {},
   "outputs": [],
   "source": [
    "list_3"
   ]
  },
  {
   "cell_type": "code",
   "execution_count": null,
   "id": "85312fa8",
   "metadata": {},
   "outputs": [],
   "source": [
    "list_1.append(5)\n",
    "list_2"
   ]
  },
  {
   "cell_type": "code",
   "execution_count": null,
   "id": "1d379866",
   "metadata": {},
   "outputs": [],
   "source": [
    "list_3"
   ]
  },
  {
   "cell_type": "code",
   "execution_count": null,
   "id": "c8ed5bc7",
   "metadata": {},
   "outputs": [],
   "source": [
    "import copy"
   ]
  },
  {
   "cell_type": "code",
   "execution_count": null,
   "id": "4870deb2",
   "metadata": {},
   "outputs": [],
   "source": [
    "list3=copy.deepcopy(list_2)"
   ]
  },
  {
   "cell_type": "code",
   "execution_count": null,
   "id": "9358ad1c",
   "metadata": {},
   "outputs": [],
   "source": [
    "list3"
   ]
  }
 ],
 "metadata": {
  "kernelspec": {
   "display_name": "Python 3 (ipykernel)",
   "language": "python",
   "name": "python3"
  },
  "language_info": {
   "codemirror_mode": {
    "name": "ipython",
    "version": 3
   },
   "file_extension": ".py",
   "mimetype": "text/x-python",
   "name": "python",
   "nbconvert_exporter": "python",
   "pygments_lexer": "ipython3",
   "version": "3.9.12"
  }
 },
 "nbformat": 4,
 "nbformat_minor": 5
}
