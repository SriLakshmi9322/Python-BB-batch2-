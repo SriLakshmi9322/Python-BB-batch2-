{
 "cells": [
  {
   "cell_type": "markdown",
   "id": "c5d905c1",
   "metadata": {},
   "source": [
    "# Operators"
   ]
  },
  {
   "cell_type": "markdown",
   "id": "d5d5d91c",
   "metadata": {},
   "source": [
    "## Arithmetic operators(Add,Sub,Mul,Div,Exp,Mod,Floor Division)"
   ]
  },
  {
   "cell_type": "code",
   "execution_count": null,
   "id": "af9ce380",
   "metadata": {},
   "outputs": [],
   "source": [
    "income=10000\n",
    "incentive=1000\n",
    "total=income+incentive\n",
    "total"
   ]
  },
  {
   "cell_type": "code",
   "execution_count": null,
   "id": "05f67b23",
   "metadata": {},
   "outputs": [],
   "source": [
    "type(total)"
   ]
  },
  {
   "cell_type": "code",
   "execution_count": null,
   "id": "a0fb6596",
   "metadata": {},
   "outputs": [],
   "source": [
    "income=10000\n",
    "incentive=100.5\n",
    "total=income+incentive\n",
    "total"
   ]
  },
  {
   "cell_type": "code",
   "execution_count": null,
   "id": "6a11896f",
   "metadata": {},
   "outputs": [],
   "source": [
    "type(total)"
   ]
  },
  {
   "cell_type": "code",
   "execution_count": null,
   "id": "cb2b80d4",
   "metadata": {},
   "outputs": [],
   "source": [
    "x=2.5\n",
    "y=2\n",
    "z=x*y\n",
    "z"
   ]
  },
  {
   "cell_type": "code",
   "execution_count": null,
   "id": "b1e0d779",
   "metadata": {},
   "outputs": [],
   "source": [
    "type(z)"
   ]
  },
  {
   "cell_type": "code",
   "execution_count": null,
   "id": "e82e7aa8",
   "metadata": {},
   "outputs": [],
   "source": [
    "x=20.2\n",
    "y=4.5\n",
    "z=x/y\n",
    "z"
   ]
  },
  {
   "cell_type": "code",
   "execution_count": null,
   "id": "e111b45f",
   "metadata": {},
   "outputs": [],
   "source": [
    "type(z)"
   ]
  },
  {
   "cell_type": "code",
   "execution_count": null,
   "id": "563722eb",
   "metadata": {},
   "outputs": [],
   "source": [
    "### exponential (**)\n",
    "a=2.0\n",
    "b=4.0\n",
    "z=a**b\n",
    "z"
   ]
  },
  {
   "cell_type": "code",
   "execution_count": null,
   "id": "083516e4",
   "metadata": {},
   "outputs": [],
   "source": [
    "a=8\n",
    "b=2\n",
    "z=a%b\n",
    "z"
   ]
  },
  {
   "cell_type": "code",
   "execution_count": null,
   "id": "a2d24b7d",
   "metadata": {},
   "outputs": [],
   "source": [
    "a=100\n",
    "b=3\n",
    "z=a//b\n",
    "z"
   ]
  },
  {
   "cell_type": "code",
   "execution_count": null,
   "id": "856b3e7f",
   "metadata": {},
   "outputs": [],
   "source": [
    "name=input(\"Enter your name:\")\n",
    "print(\"welcome\",name)"
   ]
  },
  {
   "cell_type": "code",
   "execution_count": null,
   "id": "725846dd",
   "metadata": {},
   "outputs": [],
   "source": [
    "price=int(input(\"Enter price:\"))\n",
    "quality=int(input(\"Enter quality:\"))\n",
    "cost=price*quality\n",
    "cost"
   ]
  },
  {
   "cell_type": "markdown",
   "id": "c8e4aba1",
   "metadata": {},
   "source": [
    "## Relational operators"
   ]
  },
  {
   "cell_type": "code",
   "execution_count": null,
   "id": "41c0204e",
   "metadata": {},
   "outputs": [],
   "source": [
    "x=67\n",
    "y=34\n",
    "x==y"
   ]
  },
  {
   "cell_type": "code",
   "execution_count": null,
   "id": "98f0ff4f",
   "metadata": {},
   "outputs": [],
   "source": [
    "x!=y"
   ]
  },
  {
   "cell_type": "code",
   "execution_count": null,
   "id": "360a16a2",
   "metadata": {},
   "outputs": [],
   "source": [
    "x<y"
   ]
  },
  {
   "cell_type": "code",
   "execution_count": null,
   "id": "4e30ea4c",
   "metadata": {},
   "outputs": [],
   "source": [
    "x>y"
   ]
  },
  {
   "cell_type": "code",
   "execution_count": null,
   "id": "e0abbc57",
   "metadata": {},
   "outputs": [],
   "source": [
    "x>=y"
   ]
  },
  {
   "cell_type": "code",
   "execution_count": null,
   "id": "c7a9c3b4",
   "metadata": {},
   "outputs": [],
   "source": [
    "x<=y"
   ]
  },
  {
   "cell_type": "markdown",
   "id": "3189439b",
   "metadata": {},
   "source": [
    "## Logical Operator"
   ]
  },
  {
   "cell_type": "markdown",
   "id": "3c2e1788",
   "metadata": {},
   "source": [
    "### And"
   ]
  },
  {
   "cell_type": "code",
   "execution_count": null,
   "id": "0120ad29",
   "metadata": {},
   "outputs": [],
   "source": [
    "is_std=True\n",
    "in_clg=True\n",
    "in_scl=False"
   ]
  },
  {
   "cell_type": "code",
   "execution_count": null,
   "id": "b7fac757",
   "metadata": {},
   "outputs": [],
   "source": [
    "is_std and in_clg"
   ]
  },
  {
   "cell_type": "code",
   "execution_count": null,
   "id": "11042cd4",
   "metadata": {},
   "outputs": [],
   "source": [
    "is_std and in_scl"
   ]
  },
  {
   "cell_type": "markdown",
   "id": "f5cd88f9",
   "metadata": {},
   "source": [
    "### Or"
   ]
  },
  {
   "cell_type": "code",
   "execution_count": null,
   "id": "881c2c45",
   "metadata": {},
   "outputs": [],
   "source": [
    "is_std or in_scl"
   ]
  },
  {
   "cell_type": "markdown",
   "id": "b695c105",
   "metadata": {},
   "source": [
    "### Not"
   ]
  },
  {
   "cell_type": "code",
   "execution_count": null,
   "id": "425c5650",
   "metadata": {},
   "outputs": [],
   "source": [
    "not is_std"
   ]
  },
  {
   "cell_type": "code",
   "execution_count": null,
   "id": "d6bf6ed7",
   "metadata": {},
   "outputs": [],
   "source": [
    "### Membership Operator\n",
    "vowels=\"aeiou\"\n",
    "print(\"i\" in vowels)"
   ]
  },
  {
   "cell_type": "code",
   "execution_count": null,
   "id": "90d2fb70",
   "metadata": {},
   "outputs": [],
   "source": [
    "print(\"j\" in vowels)"
   ]
  },
  {
   "cell_type": "code",
   "execution_count": null,
   "id": "74370989",
   "metadata": {},
   "outputs": [],
   "source": [
    "### not in\n",
    "print(\"a\" not in vowels)"
   ]
  },
  {
   "cell_type": "code",
   "execution_count": null,
   "id": "b038d162",
   "metadata": {},
   "outputs": [],
   "source": [
    "print(\"p\" not in vowels)"
   ]
  },
  {
   "cell_type": "markdown",
   "id": "ea2d6719",
   "metadata": {},
   "source": [
    "## Bitwise operator"
   ]
  },
  {
   "cell_type": "code",
   "execution_count": null,
   "id": "ee3065b4",
   "metadata": {},
   "outputs": [],
   "source": [
    "num=10\n",
    "(num%2==0)&(num%3==0)"
   ]
  },
  {
   "cell_type": "code",
   "execution_count": null,
   "id": "5744e39a",
   "metadata": {},
   "outputs": [],
   "source": [
    "num=10\n",
    "(num%2==0)|(num%3==0)"
   ]
  },
  {
   "cell_type": "markdown",
   "id": "379061b1",
   "metadata": {},
   "source": [
    "## Arimetic Operator"
   ]
  },
  {
   "cell_type": "code",
   "execution_count": null,
   "id": "80073fe7",
   "metadata": {},
   "outputs": [],
   "source": [
    "x=3\n",
    "x+=5\n",
    "x"
   ]
  },
  {
   "cell_type": "code",
   "execution_count": null,
   "id": "455414c4",
   "metadata": {},
   "outputs": [],
   "source": [
    "x=3\n",
    "x-=5\n",
    "x"
   ]
  },
  {
   "cell_type": "code",
   "execution_count": null,
   "id": "72e1697f",
   "metadata": {},
   "outputs": [],
   "source": [
    "x=5\n",
    "x*=3\n",
    "x"
   ]
  },
  {
   "cell_type": "code",
   "execution_count": null,
   "id": "480130bb",
   "metadata": {},
   "outputs": [],
   "source": [
    "x=10\n",
    "x/=2\n",
    "x"
   ]
  },
  {
   "cell_type": "code",
   "execution_count": null,
   "id": "f0302b9e",
   "metadata": {},
   "outputs": [],
   "source": [
    "x=5\n",
    "x**=2\n",
    "x"
   ]
  },
  {
   "cell_type": "code",
   "execution_count": null,
   "id": "dd23a81d",
   "metadata": {},
   "outputs": [],
   "source": [
    "x=11\n",
    "x%=3\n",
    "x"
   ]
  },
  {
   "cell_type": "code",
   "execution_count": null,
   "id": "f485148e",
   "metadata": {},
   "outputs": [],
   "source": [
    "x=10\n",
    "x//=1.5\n",
    "x"
   ]
  }
 ],
 "metadata": {
  "kernelspec": {
   "display_name": "Python 3 (ipykernel)",
   "language": "python",
   "name": "python3"
  },
  "language_info": {
   "codemirror_mode": {
    "name": "ipython",
    "version": 3
   },
   "file_extension": ".py",
   "mimetype": "text/x-python",
   "name": "python",
   "nbconvert_exporter": "python",
   "pygments_lexer": "ipython3",
   "version": "3.9.12"
  }
 },
 "nbformat": 4,
 "nbformat_minor": 5
}
