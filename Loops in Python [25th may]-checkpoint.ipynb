{
 "cells": [
  {
   "cell_type": "markdown",
   "id": "8bc6376e",
   "metadata": {},
   "source": [
    "## Loops and Functions"
   ]
  },
  {
   "cell_type": "code",
   "execution_count": null,
   "id": "ce71aa95",
   "metadata": {},
   "outputs": [],
   "source": [
    "a=20\n",
    "b=33\n",
    "if b>a:\n",
    "    print(\"b is greater than a\")"
   ]
  },
  {
   "cell_type": "code",
   "execution_count": null,
   "id": "cc47b599",
   "metadata": {},
   "outputs": [],
   "source": [
    "a=40\n",
    "b=33\n",
    "if b>a:\n",
    "    print(\"b is greater than a\") ### Condition is False"
   ]
  },
  {
   "cell_type": "code",
   "execution_count": null,
   "id": "f33d2739",
   "metadata": {},
   "outputs": [],
   "source": [
    "a=20\n",
    "b=20\n",
    "if b>a:\n",
    "print(\"b is greater than a\") ### Indentation error"
   ]
  },
  {
   "cell_type": "code",
   "execution_count": null,
   "id": "8d782ad5",
   "metadata": {},
   "outputs": [],
   "source": [
    "a=20\n",
    "b=20\n",
    "if b==a:\n",
    "    print(\"a is equal to b\")"
   ]
  },
  {
   "cell_type": "code",
   "execution_count": null,
   "id": "83cb16e6",
   "metadata": {},
   "outputs": [],
   "source": [
    "a=24\n",
    "b=20\n",
    "if b!=a:\n",
    "    print(\"b is not equal to a\")"
   ]
  },
  {
   "cell_type": "code",
   "execution_count": null,
   "id": "31618b1c",
   "metadata": {},
   "outputs": [],
   "source": [
    "a=20\n",
    "b=30\n",
    "if a<b:\n",
    "    print(\"a is lesser than b\")"
   ]
  },
  {
   "cell_type": "code",
   "execution_count": null,
   "id": "d0a6c475",
   "metadata": {},
   "outputs": [],
   "source": [
    "a=30\n",
    "b=30\n",
    "if a<=b:\n",
    "    print(\"a is lesser than or equal to b\")"
   ]
  },
  {
   "cell_type": "code",
   "execution_count": null,
   "id": "b56bb6d2",
   "metadata": {},
   "outputs": [],
   "source": [
    "a=30\n",
    "b=30\n",
    "if a>=b:\n",
    "    print(\"a is lesser than or equal to b\")"
   ]
  },
  {
   "cell_type": "code",
   "execution_count": null,
   "id": "4ab3d8f4",
   "metadata": {},
   "outputs": [],
   "source": [
    "time=int(input(\"Enter the time:\"))\n",
    "if time>7:\n",
    "    print(\"Attend the blackbucks\")"
   ]
  },
  {
   "cell_type": "code",
   "execution_count": null,
   "id": "f61d4ad9",
   "metadata": {},
   "outputs": [],
   "source": [
    "a=int(input ())\n",
    "if a%2==0:\n",
    "    print('even')"
   ]
  },
  {
   "cell_type": "code",
   "execution_count": null,
   "id": "50d498ba",
   "metadata": {},
   "outputs": [],
   "source": [
    "age=int(input(\"Enter your age:\"))\n",
    "if age>=18:\n",
    "    print(\"eligible to vote.\")"
   ]
  },
  {
   "cell_type": "code",
   "execution_count": null,
   "id": "942deb8e",
   "metadata": {},
   "outputs": [],
   "source": [
    "a=56\n",
    "b=42\n",
    "if a>b:\n",
    "    print(\"a is greater\")\n",
    "else:\n",
    "    print(\"b is greater\")"
   ]
  },
  {
   "cell_type": "code",
   "execution_count": null,
   "id": "ad454ae0",
   "metadata": {},
   "outputs": [],
   "source": [
    "input=int(input(\"Enter your experiance:\"))\n",
    "if (input>=5):\n",
    "    print(\"Extraordinary.\")\n",
    "else:\n",
    "    print(\"Not upto the expectations.\")"
   ]
  },
  {
   "cell_type": "code",
   "execution_count": null,
   "id": "d71bfdef",
   "metadata": {},
   "outputs": [],
   "source": [
    "a=35\n",
    "b=25\n",
    "if a==b:\n",
    "    print(\"a and b are equal\")\n",
    "elif a>b:\n",
    "    print(\"a is greater\")\n",
    "else:\n",
    "    print(\"b is greater\")"
   ]
  },
  {
   "cell_type": "code",
   "execution_count": 2,
   "id": "b5b4eab3",
   "metadata": {},
   "outputs": [
    {
     "name": "stdout",
     "output_type": "stream",
     "text": [
      "Enter a digit:10\n",
      "wrong digit 10\n"
     ]
    }
   ],
   "source": [
    "x= int(input(\"Enter a digit:\") )\n",
    "if x==0:\n",
    "    print(\"Zero\")\n",
    "elif x==1:\n",
    "    print(\"One\")\n",
    "elif x==2:\n",
    "    print(\"Two\")\n",
    "elif x==3:\n",
    "    print(\"Three\")\n",
    "elif x==4:\n",
    "    print(\"Four\")\n",
    "elif x==5:\n",
    "    print(\"Five\")\n",
    "elif x==6:\n",
    "    print(\"Six\")\n",
    "elif x==7:\n",
    "    print(\"Seven\")\n",
    "elif x==8:\n",
    "    print(\"Eight\")\n",
    "elif x==9:\n",
    "    print(\"Nine\")\n",
    "else:\n",
    "    print(\"wrong digit\",x)"
   ]
  },
  {
   "cell_type": "code",
   "execution_count": 3,
   "id": "ba5ec05d",
   "metadata": {},
   "outputs": [
    {
     "ename": "IndentationError",
     "evalue": "unexpected indent (2315392153.py, line 5)",
     "output_type": "error",
     "traceback": [
      "\u001b[1;36m  Input \u001b[1;32mIn [3]\u001b[1;36m\u001b[0m\n\u001b[1;33m    print(\"It's normal hot in your city\")\u001b[0m\n\u001b[1;37m    ^\u001b[0m\n\u001b[1;31mIndentationError\u001b[0m\u001b[1;31m:\u001b[0m unexpected indent\n"
     ]
    }
   ],
   "source": [
    "a=int(input(\"Enter temp:\"))\n",
    "if(a>=40):\n",
    "    print(\"It's extreme hot in your city\")\n",
    "elif(a>30 and a<35):r\n",
    "    print(\"It's normal hot in your city\")\n",
    "else:\n",
    "    print(\"It's normal temparature in your city\")"
   ]
  },
  {
   "cell_type": "code",
   "execution_count": null,
   "id": "540e08e3",
   "metadata": {},
   "outputs": [],
   "source": []
  }
 ],
 "metadata": {
  "kernelspec": {
   "display_name": "Python 3 (ipykernel)",
   "language": "python",
   "name": "python3"
  },
  "language_info": {
   "codemirror_mode": {
    "name": "ipython",
    "version": 3
   },
   "file_extension": ".py",
   "mimetype": "text/x-python",
   "name": "python",
   "nbconvert_exporter": "python",
   "pygments_lexer": "ipython3",
   "version": "3.9.12"
  }
 },
 "nbformat": 4,
 "nbformat_minor": 5
}
